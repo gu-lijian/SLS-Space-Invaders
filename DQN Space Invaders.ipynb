{
 "cells": [
  {
   "cell_type": "markdown",
   "metadata": {},
   "source": [
    "# 0. Install Dependencies"
   ]
  },
  {
   "cell_type": "code",
   "execution_count": 26,
   "metadata": {},
   "outputs": [],
   "source": [
    "!pip install tensorflow==2.3.1 gym keras-rl2 gym[atari]"
   ]
  },
  {
   "cell_type": "markdown",
   "metadata": {},
   "source": [
    "# 1. Test Random Environment with OpenAI Gym"
   ]
  },
  {
   "cell_type": "code",
   "execution_count": 49,
   "metadata": {},
   "outputs": [],
   "source": [
    "import gym \n",
    "import random"
   ]
  },
  {
   "cell_type": "code",
   "execution_count": 50,
   "metadata": {},
   "outputs": [
    {
     "name": "stdout",
     "output_type": "stream",
     "text": [
      "copying space_invaders.bin from ROMS\\Space Invaders (1980) (Atari, Richard Maurer - Sears) (CX2632 - 49-75153) ~.bin to C:\\Program Files\\Python37\\lib\\site-packages\\atari_py\\atari_roms\\space_invaders.bin\n",
      "['space_invaders', 'tetris']\n"
     ]
    },
    {
     "name": "stderr",
     "output_type": "stream",
     "text": [
      "Traceback (most recent call last):\n",
      "  File \"C:\\Program Files\\Python37\\lib\\runpy.py\", line 193, in _run_module_as_main\n",
      "    \"__main__\", mod_spec)\n",
      "  File \"C:\\Program Files\\Python37\\lib\\runpy.py\", line 85, in _run_code\n",
      "    exec(code, run_globals)\n",
      "  File \"C:\\Program Files\\Python37\\lib\\site-packages\\atari_py\\import_roms.py\", line 93, in <module>\n",
      "    main()\n",
      "  File \"C:\\Program Files\\Python37\\lib\\site-packages\\atari_py\\import_roms.py\", line 89, in main\n",
      "    import_roms(args.dirpath)\n",
      "  File \"C:\\Program Files\\Python37\\lib\\site-packages\\atari_py\\import_roms.py\", line 82, in import_roms\n",
      "    save_if_matches(f)\n",
      "  File \"C:\\Program Files\\Python37\\lib\\site-packages\\atari_py\\import_roms.py\", line 68, in save_if_matches\n",
      "    with open(rom_path, \"wb\") as out_f:\n",
      "PermissionError: [Errno 13] Permission denied: 'C:\\\\Program Files\\\\Python37\\\\lib\\\\site-packages\\\\atari_py\\\\atari_roms\\\\space_invaders.bin'\n"
     ]
    }
   ],
   "source": [
    "import atari_py\n",
    "!python -m atari_py.import_roms ROMS\n",
    "print(atari_py.list_games())"
   ]
  },
  {
   "cell_type": "code",
   "execution_count": 51,
   "metadata": {},
   "outputs": [],
   "source": [
    "env = gym.make('SpaceInvaders-v0')\n",
    "height, width, channels = env.observation_space.shape\n",
    "actions = env.action_space.n"
   ]
  },
  {
   "cell_type": "code",
   "execution_count": 52,
   "metadata": {},
   "outputs": [
    {
     "data": {
      "text/plain": [
       "['NOOP', 'FIRE', 'RIGHT', 'LEFT', 'RIGHTFIRE', 'LEFTFIRE']"
      ]
     },
     "execution_count": 52,
     "metadata": {},
     "output_type": "execute_result"
    }
   ],
   "source": [
    "env.unwrapped.get_action_meanings()"
   ]
  },
  {
   "cell_type": "markdown",
   "metadata": {},
   "source": [
    "# 2. Create a Deep Learning Model with Keras"
   ]
  },
  {
   "cell_type": "code",
   "execution_count": 54,
   "metadata": {},
   "outputs": [],
   "source": [
    "import numpy as np\n",
    "from tensorflow.keras.models import Sequential\n",
    "from tensorflow.keras.layers import Dense, Flatten, Convolution2D\n",
    "from tensorflow.keras.optimizers import Adam"
   ]
  },
  {
   "cell_type": "code",
   "execution_count": 55,
   "metadata": {},
   "outputs": [],
   "source": [
    "def build_model(height, width, channels, actions):\n",
    "    model = Sequential()\n",
    "    model.add(Convolution2D(32, (8,8), strides=(4,4), activation='relu', input_shape=(3,height, width, channels)))\n",
    "    model.add(Convolution2D(64, (4,4), strides=(2,2), activation='relu'))\n",
    "    model.add(Convolution2D(64, (3,3), activation='relu'))\n",
    "    model.add(Flatten())\n",
    "    model.add(Dense(512, activation='relu'))\n",
    "    model.add(Dense(256, activation='relu'))\n",
    "    model.add(Dense(actions, activation='linear'))\n",
    "    return model"
   ]
  },
  {
   "cell_type": "code",
   "execution_count": 57,
   "metadata": {},
   "outputs": [],
   "source": [
    "model = build_model(height, width, channels, actions)"
   ]
  },
  {
   "cell_type": "code",
   "execution_count": 58,
   "metadata": {},
   "outputs": [
    {
     "name": "stdout",
     "output_type": "stream",
     "text": [
      "Model: \"sequential_3\"\n",
      "_________________________________________________________________\n",
      "Layer (type)                 Output Shape              Param #   \n",
      "=================================================================\n",
      "conv2d_9 (Conv2D)            (None, 3, 51, 39, 32)     6176      \n",
      "_________________________________________________________________\n",
      "conv2d_10 (Conv2D)           (None, 3, 24, 18, 64)     32832     \n",
      "_________________________________________________________________\n",
      "conv2d_11 (Conv2D)           (None, 3, 22, 16, 64)     36928     \n",
      "_________________________________________________________________\n",
      "flatten_3 (Flatten)          (None, 67584)             0         \n",
      "_________________________________________________________________\n",
      "dense_12 (Dense)             (None, 512)               34603520  \n",
      "_________________________________________________________________\n",
      "dense_13 (Dense)             (None, 256)               131328    \n",
      "_________________________________________________________________\n",
      "dense_14 (Dense)             (None, 6)                 1542      \n",
      "=================================================================\n",
      "Total params: 34,812,326\n",
      "Trainable params: 34,812,326\n",
      "Non-trainable params: 0\n",
      "_________________________________________________________________\n"
     ]
    }
   ],
   "source": [
    "model.summary()"
   ]
  },
  {
   "cell_type": "markdown",
   "metadata": {},
   "source": [
    "# 3. Build Agent with Keras-RL"
   ]
  },
  {
   "cell_type": "code",
   "execution_count": 59,
   "metadata": {},
   "outputs": [],
   "source": [
    "from rl.agents import DQNAgent\n",
    "from rl.memory import SequentialMemory\n",
    "from rl.policy import LinearAnnealedPolicy, EpsGreedyQPolicy"
   ]
  },
  {
   "cell_type": "code",
   "execution_count": 60,
   "metadata": {},
   "outputs": [],
   "source": [
    "def build_agent(model, actions):\n",
    "    policy = LinearAnnealedPolicy(EpsGreedyQPolicy(), attr='eps', value_max=1., value_min=.1, value_test=.2, nb_steps=10000)\n",
    "    memory = SequentialMemory(limit=1000, window_length=3)\n",
    "    dqn = DQNAgent(model=model, memory=memory, policy=policy,\n",
    "                  enable_dueling_network=True, dueling_type='avg', \n",
    "                   nb_actions=actions, nb_steps_warmup=1000\n",
    "                  )\n",
    "    return dqn"
   ]
  },
  {
   "cell_type": "code",
   "execution_count": 61,
   "metadata": {},
   "outputs": [],
   "source": [
    "dqn = build_agent(model, actions)\n",
    "dqn.compile(Adam(lr=1e-4))"
   ]
  },
  {
   "cell_type": "code",
   "execution_count": 62,
   "metadata": {},
   "outputs": [],
   "source": [
    "# Release either one of below to load pre-trained model or to train a new model.\n",
    "# Load pre-trained model\n",
    "dqn.load_weights('SavedWeights/1m/dqn_weights.h5f')\n",
    "# Train model\n",
    "# dqn.fit(env, nb_steps=50000, visualize=False, verbose=2)"
   ]
  },
  {
   "cell_type": "code",
   "execution_count": 64,
   "metadata": {},
   "outputs": [
    {
     "name": "stdout",
     "output_type": "stream",
     "text": [
      "Testing for 100 episodes ...\n",
      "Episode 1: reward: 260.000, steps: 1206\n",
      "Episode 2: reward: 90.000, steps: 525\n",
      "Episode 3: reward: 155.000, steps: 648\n",
      "Episode 4: reward: 465.000, steps: 780\n",
      "Episode 5: reward: 235.000, steps: 600\n",
      "Episode 6: reward: 260.000, steps: 714\n",
      "Episode 7: reward: 495.000, steps: 1158\n",
      "Episode 8: reward: 255.000, steps: 898\n",
      "Episode 9: reward: 405.000, steps: 1131\n",
      "Episode 10: reward: 275.000, steps: 1259\n",
      "Episode 11: reward: 395.000, steps: 1206\n",
      "Episode 12: reward: 410.000, steps: 1127\n",
      "Episode 13: reward: 170.000, steps: 633\n",
      "Episode 14: reward: 250.000, steps: 947\n",
      "Episode 15: reward: 320.000, steps: 1245\n",
      "Episode 16: reward: 365.000, steps: 685\n",
      "Episode 17: reward: 225.000, steps: 1403\n",
      "Episode 18: reward: 190.000, steps: 636\n",
      "Episode 19: reward: 255.000, steps: 1216\n",
      "Episode 20: reward: 385.000, steps: 721\n",
      "Episode 21: reward: 170.000, steps: 628\n",
      "Episode 22: reward: 465.000, steps: 1111\n",
      "Episode 23: reward: 190.000, steps: 661\n",
      "Episode 24: reward: 250.000, steps: 1076\n",
      "Episode 25: reward: 155.000, steps: 649\n",
      "Episode 26: reward: 305.000, steps: 1269\n",
      "Episode 27: reward: 260.000, steps: 1327\n",
      "Episode 28: reward: 185.000, steps: 650\n",
      "Episode 29: reward: 410.000, steps: 1119\n",
      "Episode 30: reward: 395.000, steps: 693\n",
      "Episode 31: reward: 165.000, steps: 1161\n",
      "Episode 32: reward: 240.000, steps: 842\n",
      "Episode 33: reward: 510.000, steps: 1218\n",
      "Episode 34: reward: 240.000, steps: 845\n",
      "Episode 35: reward: 305.000, steps: 929\n",
      "Episode 36: reward: 470.000, steps: 1321\n",
      "Episode 37: reward: 225.000, steps: 1130\n",
      "Episode 38: reward: 240.000, steps: 1158\n",
      "Episode 39: reward: 645.000, steps: 1650\n",
      "Episode 40: reward: 370.000, steps: 1198\n",
      "Episode 41: reward: 175.000, steps: 684\n",
      "Episode 42: reward: 275.000, steps: 917\n",
      "Episode 43: reward: 165.000, steps: 917\n",
      "Episode 44: reward: 250.000, steps: 612\n",
      "Episode 45: reward: 255.000, steps: 857\n",
      "Episode 46: reward: 95.000, steps: 518\n",
      "Episode 47: reward: 335.000, steps: 1103\n",
      "Episode 48: reward: 150.000, steps: 875\n",
      "Episode 49: reward: 215.000, steps: 1101\n",
      "Episode 50: reward: 130.000, steps: 635\n",
      "Episode 51: reward: 135.000, steps: 632\n",
      "Episode 52: reward: 260.000, steps: 829\n",
      "Episode 53: reward: 490.000, steps: 1149\n",
      "Episode 54: reward: 140.000, steps: 633\n",
      "Episode 55: reward: 165.000, steps: 750\n",
      "Episode 56: reward: 160.000, steps: 891\n",
      "Episode 57: reward: 380.000, steps: 1089\n",
      "Episode 58: reward: 170.000, steps: 634\n",
      "Episode 59: reward: 225.000, steps: 566\n",
      "Episode 60: reward: 410.000, steps: 841\n",
      "Episode 61: reward: 130.000, steps: 641\n",
      "Episode 62: reward: 460.000, steps: 1195\n",
      "Episode 63: reward: 35.000, steps: 392\n",
      "Episode 64: reward: 260.000, steps: 849\n",
      "Episode 65: reward: 260.000, steps: 1211\n",
      "Episode 66: reward: 305.000, steps: 1172\n",
      "Episode 67: reward: 175.000, steps: 641\n",
      "Episode 68: reward: 45.000, steps: 355\n",
      "Episode 69: reward: 265.000, steps: 715\n",
      "Episode 70: reward: 155.000, steps: 670\n",
      "Episode 71: reward: 560.000, steps: 1480\n",
      "Episode 72: reward: 150.000, steps: 626\n",
      "Episode 73: reward: 265.000, steps: 1025\n",
      "Episode 74: reward: 470.000, steps: 1335\n",
      "Episode 75: reward: 300.000, steps: 659\n",
      "Episode 76: reward: 265.000, steps: 1218\n",
      "Episode 77: reward: 150.000, steps: 851\n",
      "Episode 78: reward: 165.000, steps: 625\n",
      "Episode 79: reward: 40.000, steps: 550\n",
      "Episode 80: reward: 245.000, steps: 668\n",
      "Episode 81: reward: 225.000, steps: 616\n",
      "Episode 82: reward: 460.000, steps: 974\n",
      "Episode 83: reward: 155.000, steps: 668\n",
      "Episode 84: reward: 165.000, steps: 966\n",
      "Episode 85: reward: 645.000, steps: 1160\n",
      "Episode 86: reward: 400.000, steps: 1106\n",
      "Episode 87: reward: 155.000, steps: 647\n",
      "Episode 88: reward: 230.000, steps: 838\n",
      "Episode 89: reward: 215.000, steps: 561\n",
      "Episode 90: reward: 290.000, steps: 681\n",
      "Episode 91: reward: 220.000, steps: 666\n",
      "Episode 92: reward: 705.000, steps: 1453\n",
      "Episode 93: reward: 485.000, steps: 883\n",
      "Episode 94: reward: 165.000, steps: 668\n",
      "Episode 95: reward: 435.000, steps: 1129\n",
      "Episode 96: reward: 350.000, steps: 1170\n",
      "Episode 97: reward: 235.000, steps: 670\n",
      "Episode 98: reward: 190.000, steps: 649\n",
      "Episode 99: reward: 240.000, steps: 629\n",
      "Episode 100: reward: 425.000, steps: 1134\n",
      "277.25\n"
     ]
    }
   ],
   "source": [
    "# run below test after trained or loaded the model\n",
    "scores = dqn.test(env, nb_episodes=100, visualize=False)\n",
    "print(np.mean(scores.history['episode_reward']))"
   ]
  },
  {
   "cell_type": "markdown",
   "metadata": {},
   "source": [
    "# 4. Save trained model"
   ]
  },
  {
   "cell_type": "code",
   "execution_count": 43,
   "metadata": {},
   "outputs": [],
   "source": [
    "# release below if you're training a model\n",
    "# dqn.save_weights('SavedWeights/2k/dqn_weights.h5f')"
   ]
  },
  {
   "cell_type": "code",
   "execution_count": null,
   "metadata": {},
   "outputs": [],
   "source": []
  }
 ],
 "metadata": {
  "kernelspec": {
   "display_name": "Python 3",
   "language": "python",
   "name": "python3"
  },
  "language_info": {
   "codemirror_mode": {
    "name": "ipython",
    "version": 3
   },
   "file_extension": ".py",
   "mimetype": "text/x-python",
   "name": "python",
   "nbconvert_exporter": "python",
   "pygments_lexer": "ipython3",
   "version": "3.7.2"
  }
 },
 "nbformat": 4,
 "nbformat_minor": 2
}
